{
 "cells": [
  {
   "cell_type": "markdown",
   "id": "d520fb9f-6d95-40bd-858b-ed33feecc5e7",
   "metadata": {
    "tags": []
   },
   "source": [
    "# Artificial Neural Network implementation\n",
    "Python implementation of the ANN (artificial neural network) architecture.\n",
    "\n",
    "This code is aimed to be for educational purposes.\n",
    "\n",
    "This Jupyter Notebook provides a Python implementation of an artificial neural network (ANN) architecture. The purpose of this implementation is to serve as an educational resource for anyone interested in understanding how ANNs work and how they can be implemented in Python, taking into account the specific parts in which I struggled.\n",
    "\n",
    "The implementation includes the necessary components for building a feedforward neural network, including input, hidden, and output layers. The network is trained using the backpropagation algorithm with stochastic gradient descent.\n",
    "\n",
    "The implementation also includes a range of options for customizing the network, including the number of layers, the number of neurons in each layer, the activation function used for each neuron, and the learning rate used in the backpropagation algorithm.\n",
    "\n",
    "Overall, this Jupyter Notebook provides a comprehensive and customizable implementation of an ANN architecture that can be used to develop a better understanding of how ANNs work and how they can be applied in a wide range of contexts."
   ]
  },
  {
   "cell_type": "markdown",
   "id": "5e1657ea-ea8a-4f6b-b485-af24b6b23159",
   "metadata": {},
   "source": [
    "# Setup"
   ]
  },
  {
   "cell_type": "code",
   "execution_count": 145,
   "id": "bf1dd8f1-2485-405c-93e5-d88f7d92773f",
   "metadata": {},
   "outputs": [],
   "source": [
    "import matb\n",
    "import numpy as np\n",
    "from graphviz import Digraph\n",
    "import matplotlib.pyplot as plt\n",
    "%matplotlib inline"
   ]
  },
  {
   "cell_type": "markdown",
   "id": "8747d026-4456-4d32-96f8-4849c5572933",
   "metadata": {},
   "source": [
    "# Derivatives\n",
    "I am building the derivative mathematical object, not in a symbolic manner but using an analytical approach, answering the question: how does the function respond to a little movement on the x-axis (for one input function) called $h$?"
   ]
  },
  {
   "cell_type": "code",
   "execution_count": 10,
   "id": "7b12e2d5-da66-43a7-9fed-24b6c849f775",
   "metadata": {},
   "outputs": [
    {
     "data": {
      "image/png": "[encoded data removed]",
      "text/plain": [
       "<Figure size 432x288 with 1 Axes>"
      ]
     },
     "metadata": {
      "needs_background": "light"
     },
     "output_type": "display_data"
    }
   ],
   "source": [
    "f = lambda x: 3*(x**2) - 4*x + 5\n",
    "xs = np.arange(-5, 5, 0.25)\n",
    "ys = f(inputs)\n",
    "plt.plot(xs, ys);"
   ]
  },
  {
   "cell_type": "code",
   "execution_count": 25,
   "id": "f101343d-ed73-4a42-8244-69a7a7d6d138",
   "metadata": {},
   "outputs": [
    {
     "name": "stdout",
     "output_type": "stream",
     "text": [
      "f(3.0) = 20.0\n",
      "f(3.0 + 0.0001) = 20.001400030000006\n"
     ]
    }
   ],
   "source": [
    "h = 1e-4\n",
    "x = 3.0\n",
    "\n",
    "print(f'f({x}) = {f(x)}')\n",
    "print(f'f({x} + {h}) = {f(x + h)}')"
   ]
  },
  {
   "cell_type": "markdown",
   "id": "3de335ec-edff-457d-8de4-3828ddb38605",
   "metadata": {},
   "source": [
    "To converge to the **real** derivative $h$ has to be minimized, taking care of not occurring in numerical approximations problems while dealing with FPs."
   ]
  },
  {
   "cell_type": "code",
   "execution_count": 56,
   "id": "40352687-e553-4a0a-a490-1c1028f6ae37",
   "metadata": {},
   "outputs": [
    {
     "name": "stdout",
     "output_type": "stream",
     "text": [
      "Unnormalized slope of f(x) (x = 3.0) = 0.0014000300000063248\n",
      "Derivative of f(x) (x = 3.0) = 14.000300000063248\n"
     ]
    }
   ],
   "source": [
    "h = 1e-4\n",
    "\n",
    "unnormalized_slope = f(x+h) - f(x)\n",
    "print(f'Unnormalized slope of f(x) (x = {x}) = {unnormalized_slope}')\n",
    "\n",
    "derivative = unnormalized_slope / h\n",
    "print(f'Derivative of f(x) (x = {x}) = {derivative}')"
   ]
  },
  {
   "cell_type": "markdown",
   "id": "fdb0f315-442e-4b99-8511-d89ff5ff41ca",
   "metadata": {},
   "source": [
    "## Using multi-variable functions\n",
    "Multi-variable methods have one dependent variable and more than one independent variable. Do not confuse them with multivariate functions, which in turn have many dependent variables. "
   ]
  },
  {
   "cell_type": "code",
   "execution_count": 57,
   "id": "a01ee6d5-3fad-4d37-ad00-3d3ed1043012",
   "metadata": {},
   "outputs": [
    {
     "name": "stdout",
     "output_type": "stream",
     "text": [
      "Derivative of d(a, b, c) w.r.t. a = -3.000000000010772\n",
      "Derivative of d(a, b, c) w.r.t. b = 2.0000000000042206\n",
      "Derivative of d(a, b, c) w.r.t. c = 0.9999999999976694\n"
     ]
    }
   ],
   "source": [
    "h = 1e-4\n",
    "\n",
    "a = 2.0\n",
    "b = -3.0\n",
    "c = 10.0\n",
    "d = lambda a,b,c: a*b + c\n",
    "\n",
    "d_value =  d(a, b, c)\n",
    "\n",
    "print('Derivative of d(a, b, c) w.r.t. a =', (d(a+h, b, c) - d_value)/h)\n",
    "print('Derivative of d(a, b, c) w.r.t. b =', (d(a, b+h, c) - d_value)/h)\n",
    "print('Derivative of d(a, b, c) w.r.t. c =', (d(a, b, c+h) - d_value)/h)"
   ]
  },
  {
   "cell_type": "markdown",
   "id": "b1c152dc-c3a9-4296-8846-d86d4d14b3bf",
   "metadata": {},
   "source": [
    "# Neural networks\n",
    "The following is the definition of a Value, which is used to formulate complex math expressions through the concatenation of Values (i.e., atoms)."
   ]
  },
  {
   "cell_type": "code",
   "execution_count": 148,
   "id": "58b75273-096f-4adb-84e1-28615b0de67b",
   "metadata": {},
   "outputs": [],
   "source": [
    "class Value:\n",
    "    def __init__(self, data, _children = (), _op = '', label=''):\n",
    "        self.data = data\n",
    "        self.grad = 0.0\n",
    "        self._prev = set(_children)\n",
    "        self._op = _op\n",
    "        self.label = label\n",
    "        \n",
    "    def __repr__(self):\n",
    "        return f'Value(data = {self.data})'\n",
    "    \n",
    "    def __add__(self, other):\n",
    "        return Value(self.data + other.data, (self, other), '+')\n",
    "    \n",
    "    def __sub__(self, other):\n",
    "        return Value(self.data - other.data, (self, other), '-')\n",
    "    \n",
    "    def __mul__(self, other):\n",
    "        return Value(self.data * other.data, (self, other), '*')\n",
    "    \n",
    "    def __floordiv__(self, other):\n",
    "        return Value(self.data / other.data, (self, other), '//')\n",
    "    \n",
    "    def __truediv__(self, other):\n",
    "        return Value(self.data // other.data, (self, other), '/')"
   ]
  },
  {
   "cell_type": "markdown",
   "id": "c46bd664-c1f3-4dd9-985b-088131360b75",
   "metadata": {},
   "source": [
    "## Chained math expression\n",
    "$$L = ((a \\times b) + c) \\times f$$"
   ]
  },
  {
   "cell_type": "code",
   "execution_count": 220,
   "id": "db5f9850-8b38-4e09-9126-a95c55fd7a6d",
   "metadata": {},
   "outputs": [],
   "source": [
    "def create_expr():\n",
    "    a = Value(2.0, label = 'a'); a.grad = 6\n",
    "    b = Value(-3.0, label = 'b'); b.grad = -4\n",
    "    c = Value(10.0, label = 'c'); c.grad = -2.0\n",
    "    e = a * b; e.label = 'e'; e.grad = -2.0\n",
    "    d = e + c; d.label = 'd';  d.grad = -2.0\n",
    "    f = Value(-2.0); f.label = 'f'; f.grad = 4.0\n",
    "    L = d * f; L.label = 'L'; L.grad = 1.0\n",
    "    return L"
   ]
  },
  {
   "cell_type": "markdown",
   "id": "145622ee-a79e-4f43-8348-6c51ef4d0096",
   "metadata": {},
   "source": [
    "Let's define a function to print the **computational graph** out of the math expression."
   ]
  },
  {
   "cell_type": "code",
   "execution_count": 221,
   "id": "398cad0f-3c33-45f6-9be8-cc7e432a5118",
   "metadata": {},
   "outputs": [
    {
     "data": {
      "image/svg+xml": [
       "<?xml version=\"1.0\" encoding=\"UTF-8\" standalone=\"no\"?>\n",
       "<!DOCTYPE svg PUBLIC \"-//W3C//DTD SVG 1.1//EN\"\n",
       " \"http://www.w3.org/Graphics/SVG/1.1/DTD/svg11.dtd\">\n",
       "<!-- Generated by graphviz version 2.49.1 (20210923.0004)\n",
       " -->\n",
       "<!-- Pages: 1 -->\n",
       "<svg width=\"1170pt\" height=\"156pt\"\n",
       " viewBox=\"0.00 0.00 1170.00 156.00\" xmlns=\"http://www.w3.org/2000/svg\" xmlns:xlink=\"http://www.w3.org/1999/xlink\">\n",
       "<g id=\"graph0\" class=\"graph\" transform=\"scale(1 1) rotate(0) translate(4 152)\">\n",
       "<polygon fill=\"white\" stroke=\"transparent\" points=\"-4,4 -4,-152 1166,-152 1166,4 -4,4\"/>\n",
       "<!-- 140202359024848 -->\n",
       "<g id=\"node1\" class=\"node\">\n",
       "<title>140202359024848</title>\n",
       "<polygon fill=\"none\" stroke=\"black\" points=\"4.5,-111.5 4.5,-147.5 192.5,-147.5 192.5,-111.5 4.5,-111.5\"/>\n",
       "<text text-anchor=\"middle\" x=\"16\" y=\"-125.8\" font-family=\"Times,serif\" font-size=\"14.00\">a</text>\n",
       "<polyline fill=\"none\" stroke=\"black\" points=\"27.5,-111.5 27.5,-147.5 \"/>\n",
       "<text text-anchor=\"middle\" x=\"68.5\" y=\"-125.8\" font-family=\"Times,serif\" font-size=\"14.00\">data 2.0000</text>\n",
       "<polyline fill=\"none\" stroke=\"black\" points=\"109.5,-111.5 109.5,-147.5 \"/>\n",
       "<text text-anchor=\"middle\" x=\"151\" y=\"-125.8\" font-family=\"Times,serif\" font-size=\"14.00\">grad 6.0000</text>\n",
       "</g>\n",
       "<!-- 140202359025376* -->\n",
       "<g id=\"node3\" class=\"node\">\n",
       "<title>140202359025376*</title>\n",
       "<ellipse fill=\"none\" stroke=\"black\" cx=\"260\" cy=\"-101.5\" rx=\"27\" ry=\"18\"/>\n",
       "<text text-anchor=\"middle\" x=\"260\" y=\"-97.8\" font-family=\"Times,serif\" font-size=\"14.00\">*</text>\n",
       "</g>\n",
       "<!-- 140202359024848&#45;&gt;140202359025376* -->\n",
       "<g id=\"edge5\" class=\"edge\">\n",
       "<title>140202359024848&#45;&gt;140202359025376*</title>\n",
       "<path fill=\"none\" stroke=\"black\" d=\"M192.74,-113.13C203.64,-111.22 214.19,-109.37 223.55,-107.72\"/>\n",
       "<polygon fill=\"black\" stroke=\"black\" points=\"224.32,-111.14 233.56,-105.97 223.11,-104.25 224.32,-111.14\"/>\n",
       "</g>\n",
       "<!-- 140202359025376 -->\n",
       "<g id=\"node2\" class=\"node\">\n",
       "<title>140202359025376</title>\n",
       "<polygon fill=\"none\" stroke=\"black\" points=\"324.5,-83.5 324.5,-119.5 521.5,-119.5 521.5,-83.5 324.5,-83.5\"/>\n",
       "<text text-anchor=\"middle\" x=\"336\" y=\"-97.8\" font-family=\"Times,serif\" font-size=\"14.00\">e</text>\n",
       "<polyline fill=\"none\" stroke=\"black\" points=\"347.5,-83.5 347.5,-119.5 \"/>\n",
       "<text text-anchor=\"middle\" x=\"390.5\" y=\"-97.8\" font-family=\"Times,serif\" font-size=\"14.00\">data &#45;6.0000</text>\n",
       "<polyline fill=\"none\" stroke=\"black\" points=\"433.5,-83.5 433.5,-119.5 \"/>\n",
       "<text text-anchor=\"middle\" x=\"477.5\" y=\"-97.8\" font-family=\"Times,serif\" font-size=\"14.00\">grad &#45;2.0000</text>\n",
       "</g>\n",
       "<!-- 140202359025424+ -->\n",
       "<g id=\"node7\" class=\"node\">\n",
       "<title>140202359025424+</title>\n",
       "<ellipse fill=\"none\" stroke=\"black\" cx=\"586\" cy=\"-73.5\" rx=\"27\" ry=\"18\"/>\n",
       "<text text-anchor=\"middle\" x=\"586\" y=\"-69.8\" font-family=\"Times,serif\" font-size=\"14.00\">+</text>\n",
       "</g>\n",
       "<!-- 140202359025376&#45;&gt;140202359025424+ -->\n",
       "<g id=\"edge4\" class=\"edge\">\n",
       "<title>140202359025376&#45;&gt;140202359025424+</title>\n",
       "<path fill=\"none\" stroke=\"black\" d=\"M521.83,-84.49C531.75,-82.76 541.31,-81.1 549.85,-79.61\"/>\n",
       "<polygon fill=\"black\" stroke=\"black\" points=\"550.48,-83.06 559.73,-77.89 549.28,-76.16 550.48,-83.06\"/>\n",
       "</g>\n",
       "<!-- 140202359025376*&#45;&gt;140202359025376 -->\n",
       "<g id=\"edge1\" class=\"edge\">\n",
       "<title>140202359025376*&#45;&gt;140202359025376</title>\n",
       "<path fill=\"none\" stroke=\"black\" d=\"M287.23,-101.5C295.18,-101.5 304.45,-101.5 314.35,-101.5\"/>\n",
       "<polygon fill=\"black\" stroke=\"black\" points=\"314.42,-105 324.42,-101.5 314.42,-98 314.42,-105\"/>\n",
       "</g>\n",
       "<!-- 140202359021824 -->\n",
       "<g id=\"node4\" class=\"node\">\n",
       "<title>140202359021824</title>\n",
       "<polygon fill=\"none\" stroke=\"black\" points=\"968,-27.5 968,-63.5 1162,-63.5 1162,-27.5 968,-27.5\"/>\n",
       "<text text-anchor=\"middle\" x=\"980.5\" y=\"-41.8\" font-family=\"Times,serif\" font-size=\"14.00\">L</text>\n",
       "<polyline fill=\"none\" stroke=\"black\" points=\"993,-27.5 993,-63.5 \"/>\n",
       "<text text-anchor=\"middle\" x=\"1036\" y=\"-41.8\" font-family=\"Times,serif\" font-size=\"14.00\">data &#45;8.0000</text>\n",
       "<polyline fill=\"none\" stroke=\"black\" points=\"1079,-27.5 1079,-63.5 \"/>\n",
       "<text text-anchor=\"middle\" x=\"1120.5\" y=\"-41.8\" font-family=\"Times,serif\" font-size=\"14.00\">grad 1.0000</text>\n",
       "</g>\n",
       "<!-- 140202359021824* -->\n",
       "<g id=\"node5\" class=\"node\">\n",
       "<title>140202359021824*</title>\n",
       "<ellipse fill=\"none\" stroke=\"black\" cx=\"905\" cy=\"-45.5\" rx=\"27\" ry=\"18\"/>\n",
       "<text text-anchor=\"middle\" x=\"905\" y=\"-41.8\" font-family=\"Times,serif\" font-size=\"14.00\">*</text>\n",
       "</g>\n",
       "<!-- 140202359021824*&#45;&gt;140202359021824 -->\n",
       "<g id=\"edge2\" class=\"edge\">\n",
       "<title>140202359021824*&#45;&gt;140202359021824</title>\n",
       "<path fill=\"none\" stroke=\"black\" d=\"M932.09,-45.5C939.62,-45.5 948.34,-45.5 957.63,-45.5\"/>\n",
       "<polygon fill=\"black\" stroke=\"black\" points=\"957.92,-49 967.92,-45.5 957.92,-42 957.92,-49\"/>\n",
       "</g>\n",
       "<!-- 140202359025424 -->\n",
       "<g id=\"node6\" class=\"node\">\n",
       "<title>140202359025424</title>\n",
       "<polygon fill=\"none\" stroke=\"black\" points=\"649,-55.5 649,-91.5 842,-91.5 842,-55.5 649,-55.5\"/>\n",
       "<text text-anchor=\"middle\" x=\"660.5\" y=\"-69.8\" font-family=\"Times,serif\" font-size=\"14.00\">d</text>\n",
       "<polyline fill=\"none\" stroke=\"black\" points=\"672,-55.5 672,-91.5 \"/>\n",
       "<text text-anchor=\"middle\" x=\"713\" y=\"-69.8\" font-family=\"Times,serif\" font-size=\"14.00\">data 4.0000</text>\n",
       "<polyline fill=\"none\" stroke=\"black\" points=\"754,-55.5 754,-91.5 \"/>\n",
       "<text text-anchor=\"middle\" x=\"798\" y=\"-69.8\" font-family=\"Times,serif\" font-size=\"14.00\">grad &#45;2.0000</text>\n",
       "</g>\n",
       "<!-- 140202359025424&#45;&gt;140202359021824* -->\n",
       "<g id=\"edge9\" class=\"edge\">\n",
       "<title>140202359025424&#45;&gt;140202359021824*</title>\n",
       "<path fill=\"none\" stroke=\"black\" d=\"M842.2,-56.49C851.52,-54.83 860.5,-53.23 868.6,-51.79\"/>\n",
       "<polygon fill=\"black\" stroke=\"black\" points=\"869.45,-55.2 878.68,-50 868.23,-48.31 869.45,-55.2\"/>\n",
       "</g>\n",
       "<!-- 140202359025424+&#45;&gt;140202359025424 -->\n",
       "<g id=\"edge3\" class=\"edge\">\n",
       "<title>140202359025424+&#45;&gt;140202359025424</title>\n",
       "<path fill=\"none\" stroke=\"black\" d=\"M613.01,-73.5C620.52,-73.5 629.21,-73.5 638.47,-73.5\"/>\n",
       "<polygon fill=\"black\" stroke=\"black\" points=\"638.72,-77 648.72,-73.5 638.72,-70 638.72,-77\"/>\n",
       "</g>\n",
       "<!-- 140202359022880 -->\n",
       "<g id=\"node8\" class=\"node\">\n",
       "<title>140202359022880</title>\n",
       "<polygon fill=\"none\" stroke=\"black\" points=\"323,-28.5 323,-64.5 523,-64.5 523,-28.5 323,-28.5\"/>\n",
       "<text text-anchor=\"middle\" x=\"334.5\" y=\"-42.8\" font-family=\"Times,serif\" font-size=\"14.00\">c</text>\n",
       "<polyline fill=\"none\" stroke=\"black\" points=\"346,-28.5 346,-64.5 \"/>\n",
       "<text text-anchor=\"middle\" x=\"390.5\" y=\"-42.8\" font-family=\"Times,serif\" font-size=\"14.00\">data 10.0000</text>\n",
       "<polyline fill=\"none\" stroke=\"black\" points=\"435,-28.5 435,-64.5 \"/>\n",
       "<text text-anchor=\"middle\" x=\"479\" y=\"-42.8\" font-family=\"Times,serif\" font-size=\"14.00\">grad &#45;2.0000</text>\n",
       "</g>\n",
       "<!-- 140202359022880&#45;&gt;140202359025424+ -->\n",
       "<g id=\"edge7\" class=\"edge\">\n",
       "<title>140202359022880&#45;&gt;140202359025424+</title>\n",
       "<path fill=\"none\" stroke=\"black\" d=\"M523.21,-63.14C532.57,-64.71 541.57,-66.22 549.67,-67.58\"/>\n",
       "<polygon fill=\"black\" stroke=\"black\" points=\"549.31,-71.06 559.76,-69.27 550.47,-64.16 549.31,-71.06\"/>\n",
       "</g>\n",
       "<!-- 140202359022448 -->\n",
       "<g id=\"node9\" class=\"node\">\n",
       "<title>140202359022448</title>\n",
       "<polygon fill=\"none\" stroke=\"black\" points=\"650.5,-0.5 650.5,-36.5 840.5,-36.5 840.5,-0.5 650.5,-0.5\"/>\n",
       "<text text-anchor=\"middle\" x=\"661\" y=\"-14.8\" font-family=\"Times,serif\" font-size=\"14.00\">f</text>\n",
       "<polyline fill=\"none\" stroke=\"black\" points=\"671.5,-0.5 671.5,-36.5 \"/>\n",
       "<text text-anchor=\"middle\" x=\"714.5\" y=\"-14.8\" font-family=\"Times,serif\" font-size=\"14.00\">data &#45;2.0000</text>\n",
       "<polyline fill=\"none\" stroke=\"black\" points=\"757.5,-0.5 757.5,-36.5 \"/>\n",
       "<text text-anchor=\"middle\" x=\"799\" y=\"-14.8\" font-family=\"Times,serif\" font-size=\"14.00\">grad 4.0000</text>\n",
       "</g>\n",
       "<!-- 140202359022448&#45;&gt;140202359021824* -->\n",
       "<g id=\"edge6\" class=\"edge\">\n",
       "<title>140202359022448&#45;&gt;140202359021824*</title>\n",
       "<path fill=\"none\" stroke=\"black\" d=\"M840.85,-34.67C850.72,-36.37 860.25,-38 868.79,-39.46\"/>\n",
       "<polygon fill=\"black\" stroke=\"black\" points=\"868.22,-42.92 878.67,-41.16 869.4,-36.02 868.22,-42.92\"/>\n",
       "</g>\n",
       "<!-- 140202359023600 -->\n",
       "<g id=\"node10\" class=\"node\">\n",
       "<title>140202359023600</title>\n",
       "<polygon fill=\"none\" stroke=\"black\" points=\"0,-56.5 0,-92.5 197,-92.5 197,-56.5 0,-56.5\"/>\n",
       "<text text-anchor=\"middle\" x=\"11.5\" y=\"-70.8\" font-family=\"Times,serif\" font-size=\"14.00\">b</text>\n",
       "<polyline fill=\"none\" stroke=\"black\" points=\"23,-56.5 23,-92.5 \"/>\n",
       "<text text-anchor=\"middle\" x=\"66\" y=\"-70.8\" font-family=\"Times,serif\" font-size=\"14.00\">data &#45;3.0000</text>\n",
       "<polyline fill=\"none\" stroke=\"black\" points=\"109,-56.5 109,-92.5 \"/>\n",
       "<text text-anchor=\"middle\" x=\"153\" y=\"-70.8\" font-family=\"Times,serif\" font-size=\"14.00\">grad &#45;4.0000</text>\n",
       "</g>\n",
       "<!-- 140202359023600&#45;&gt;140202359025376* -->\n",
       "<g id=\"edge8\" class=\"edge\">\n",
       "<title>140202359023600&#45;&gt;140202359025376*</title>\n",
       "<path fill=\"none\" stroke=\"black\" d=\"M197.33,-91.06C206.57,-92.62 215.46,-94.13 223.49,-95.49\"/>\n",
       "<polygon fill=\"black\" stroke=\"black\" points=\"223.04,-98.96 233.48,-97.18 224.21,-92.06 223.04,-98.96\"/>\n",
       "</g>\n",
       "</g>\n",
       "</svg>\n"
      ],
      "text/plain": [
       "<graphviz.dot.Digraph at 0x7f8367ce63d0>"
      ]
     },
     "execution_count": 221,
     "metadata": {},
     "output_type": "execute_result"
    }
   ],
   "source": [
    "def trace(root):\n",
    "    # builds a set of all nodes and edges in a graph\n",
    "    nodes, edges = set(), set()\n",
    "    def build(v):\n",
    "        if v not in nodes:\n",
    "            nodes.add(v)\n",
    "            for child in v._prev:\n",
    "                edges.add((child, v))\n",
    "                build(child)\n",
    "    build(root)\n",
    "    return nodes, edges\n",
    "\n",
    "def draw_dot(root):\n",
    "    dot = Digraph(format='svg', graph_attr={'rankdir': 'LR'}) # LR = left to right\n",
    "    nodes, edges = trace(root)\n",
    "    for n in nodes:\n",
    "        uid = str(id(n))\n",
    "        # for any value in the graph, create a rectangular ('record') node for it\n",
    "        dot.node(name = uid, label = '{%s | data %.4f | grad %.4f}' % (n.label, n.data, n.grad), shape='record')\n",
    "        if n._op:\n",
    "          # if this value is a result of some operation, create an op node for it\n",
    "          dot.node(name = uid + n._op, label = n._op)\n",
    "          # and connect this node to it\n",
    "          dot.edge(uid + n._op, uid)\n",
    "    for n1, n2 in edges:\n",
    "        # connect n1 to the op node of n2\n",
    "        dot.edge(str(id(n1)), str(id(n2)) + n2._op)\n",
    "    return dot\n",
    "\n",
    "draw_dot(create_expr())"
   ]
  },
  {
   "cell_type": "markdown",
   "id": "42fda6e9-cd04-41bd-9ee0-68a93d03338d",
   "metadata": {},
   "source": [
    "## Back-propagation\n",
    "I am interested in the derivative of the final node (i.e., loss function) w.r.t. the leaf nodes.\n",
    "\n",
    "The baseline derivative (i.e. derivative $L$ w.r.t. itself):\n",
    "$$\\frac{dL}{dL} = 1$$"
   ]
  },
  {
   "cell_type": "code",
   "execution_count": 186,
   "id": "53e48cea-469e-4e8f-b546-75e8cbd4d608",
   "metadata": {},
   "outputs": [
    {
     "name": "stdout",
     "output_type": "stream",
     "text": [
      "Baseline derivative of L = 1.0000\n"
     ]
    }
   ],
   "source": [
    "def baseline_derivative(h: int = ):\n",
    "    expr_value = create_expr().data\n",
    "    baseline_derivative = (expr_value + h - expr_value) / h\n",
    "    print('Baseline derivative of L = %.4f' % (baseline_derivative))\n",
    "\n",
    "baseline_derivative()"
   ]
  },
  {
   "cell_type": "markdown",
   "id": "d8a34b27-e540-41cc-89c6-ea83ff2fdbdf",
   "metadata": {},
   "source": [
    "What happens when the derivative of $L$ is computed w.r.t. the local nodes (the ones in the layer immediately before)? \n",
    "\n",
    "For the node $f$:\n",
    "$$\\frac{dL}{df} = \\frac{d(d \\times f)}{df} = \\frac{(d \\times (f + h)) - (d \\times f)}{h} = \\frac{df + dh - df}{h} = \\frac{dh}{h} = d$$\n",
    "\n",
    "For the node $d$:\n",
    "$$\\frac{dL}{dd} = \\frac{d(d \\times f)}{dd} = \\frac{((d + h) \\times f) - (d \\times f)}{h} = \\frac{df + fh - df}{h} = \\frac{fh}{h} = f$$"
   ]
  },
  {
   "cell_type": "code",
   "execution_count": 210,
   "id": "51bca82b-67f1-42ce-b29d-9ee3ba9214c1",
   "metadata": {},
   "outputs": [
    {
     "name": "stdout",
     "output_type": "stream",
     "text": [
      "Derivative of L w.r.t. leaf node d = -2.0000\n"
     ]
    }
   ],
   "source": [
    "def derivative_L_wrt_d(h: int = 1e-6):\n",
    "    def create_expr(h: int = 0):\n",
    "        a = Value(2.0, label = 'a')\n",
    "        b = Value(-3.0, label = 'b')\n",
    "        c = Value(10.0, label = 'c')\n",
    "        e = a * b; e.label = 'e'\n",
    "        d = e + c; d.label = 'd'\n",
    "        d.data += h\n",
    "        f = Value(-2.0); f.label = 'f'\n",
    "        L = d * f; L.label = 'L'\n",
    "        return L\n",
    "    \n",
    "    derivative = (create_expr(h).data - create_expr().data) / h\n",
    "    print('Derivative of L w.r.t. leaf node d = %.4f' % (derivative))\n",
    "\n",
    "derivative_L_wrt_d()"
   ]
  },
  {
   "cell_type": "markdown",
   "id": "3d3cf58a-8a89-47e0-9ee6-6cc80ed2cca6",
   "metadata": {},
   "source": [
    "Now, how can I derive a non-local derivative? In other words, how can I compute the derivative of $L$ w.r.t. the non-local nodes ($c$, $e$, $a$, and $b$)? \n",
    "\n",
    "To compute how $c$ affects $L$ - besides calculating the derivative of $L$ w.r.t. $d$ - compute how $d$ is sensitive to $c$ and link the two components somehow. Let's proceed with the calculus of the local derivative(s):\n",
    "\n",
    "$$\\frac{dd}{dc} = \\frac{d(c + e)}{dc} = \\frac{((c + h) + e) - (c + e)}{h} = \\frac{h}{h} = 1$$\n",
    "\n",
    "Similarly, compute the local derivative of $d$ w.r.t. $e$:\n",
    "\n",
    "$$\\frac{dd}{de} = \\frac{d(c + e)}{de} = \\frac{(c + (e + h)) - (c + e)}{h} = \\frac{h}{h} = 1$$\n",
    "\n",
    "Finally, use the chain rule for computing $\\frac{dL}{dc}$ and $\\frac{dL}{de}$:\n",
    "$$\\frac{dL}{dc} = \\frac{dL}{dd} \\times \\frac{dd}{dc}$$\n",
    "\n",
    "$$\\frac{dL}{de} = \\frac{dL}{dd} \\times \\frac{dd}{de}$$"
   ]
  },
  {
   "cell_type": "code",
   "execution_count": 211,
   "id": "fe307ede-179b-4123-9561-dfaf5aa1cd81",
   "metadata": {},
   "outputs": [
    {
     "name": "stdout",
     "output_type": "stream",
     "text": [
      "Derivative of L w.r.t. leaf node e = -2.0000\n"
     ]
    }
   ],
   "source": [
    "def derivative_L_wrt_e(h: int = 1e-6):\n",
    "    def create_expr(h: int = 0):\n",
    "        a = Value(2.0, label = 'a')\n",
    "        b = Value(-3.0, label = 'b')\n",
    "        c = Value(10.0, label = 'c')\n",
    "        e = a * b; e.label = 'e'\n",
    "        e.data += h\n",
    "        d = e + c; d.label = 'd'\n",
    "        f = Value(-2.0); f.label = 'f'\n",
    "        L = d * f; L.label = 'L'\n",
    "        return L\n",
    "    \n",
    "    derivative = (create_expr(h).data - create_expr().data) / h\n",
    "    print('Derivative of L w.r.t. leaf node e = %.4f' % (derivative))\n",
    "\n",
    "derivative_L_wrt_e()"
   ]
  },
  {
   "cell_type": "code",
   "execution_count": 212,
   "id": "23490324-28c0-4436-8aab-58cc5a09d95d",
   "metadata": {},
   "outputs": [
    {
     "name": "stdout",
     "output_type": "stream",
     "text": [
      "Derivative of L w.r.t. leaf node c = -2.0000\n"
     ]
    }
   ],
   "source": [
    "def derivative_L_wrt_c(h: int = 1e-6):\n",
    "    def create_expr(h: int = 0):\n",
    "        a = Value(2.0, label = 'a')\n",
    "        b = Value(-3.0, label = 'b')\n",
    "        c = Value(10.0, label = 'c')\n",
    "        c.data += h\n",
    "        e = a * b; e.label = 'e'\n",
    "        d = e + c; d.label = 'd'\n",
    "        f = Value(-2.0); f.label = 'f'\n",
    "        L = d * f; L.label = 'L'\n",
    "        return L\n",
    "    \n",
    "    derivative = (create_expr(h).data - create_expr().data) / h\n",
    "    print('Derivative of L w.r.t. leaf node c = %.4f' % (derivative))\n",
    "\n",
    "derivative_L_wrt_c()"
   ]
  },
  {
   "cell_type": "markdown",
   "id": "384691ac-d26e-48b3-9070-21d32ad26422",
   "metadata": {},
   "source": [
    "In the same way, I use the chain rule for computing $\\frac{dL}{da}$ and $\\frac{dL}{db}$:\n",
    "\n",
    "$$\\frac{dL}{da} = \\frac{dL}{de} \\times\\frac{de}{da}$$\n",
    "\n",
    "$$\\frac{dL}{db} = \\frac{dL}{de} \\times\\frac{de}{db}$$\n",
    "\n",
    "The reason why above I did not write $\\frac{dL}{da} = \\frac{dL}{dd} \\times \\frac{dd}{de} \\times\\frac{de}{da}$ is that $\\frac{dL}{dd}$ is somehow **incapsulated** inside $\\frac{dL}{de}$. The same applies for the derivative w.r.t. $b$."
   ]
  },
  {
   "cell_type": "code",
   "execution_count": 214,
   "id": "8fd737cb-b17a-4e7d-a48d-3207629c1ce6",
   "metadata": {},
   "outputs": [
    {
     "name": "stdout",
     "output_type": "stream",
     "text": [
      "Derivative of L w.r.t. leaf node a = 6.0000\n",
      "Derivative of L w.r.t. leaf node b = -4.0000\n"
     ]
    }
   ],
   "source": [
    "def derivative_L_wrt_b(h: int = 1e-6):\n",
    "    def create_expr(h: int = 0):\n",
    "        a = Value(2.0, label = 'a')\n",
    "        b = Value(-3.0, label = 'b')\n",
    "        b.data += h\n",
    "        c = Value(10.0, label = 'c')\n",
    "        e = a * b; e.label = 'e'\n",
    "        d = e + c; d.label = 'd'\n",
    "        f = Value(-2.0); f.label = 'f'\n",
    "        L = d * f; L.label = 'L'\n",
    "        return L\n",
    "    \n",
    "    derivative = (create_expr(h).data - create_expr().data) / h\n",
    "    print('Derivative of L w.r.t. leaf node b = %.4f' % (derivative))\n",
    "    \n",
    "def derivative_L_wrt_a(h: int = 1e-6):\n",
    "    def create_expr(h: int = 0):\n",
    "        a = Value(2.0, label = 'a')\n",
    "        a.data += h\n",
    "        b = Value(-3.0, label = 'b')\n",
    "        c = Value(10.0, label = 'c')\n",
    "        e = a * b; e.label = 'e'\n",
    "        d = e + c; d.label = 'd'\n",
    "        f = Value(-2.0); f.label = 'f'\n",
    "        L = d * f; L.label = 'L'\n",
    "        return L\n",
    "    \n",
    "    derivative = (create_expr(h).data - create_expr().data) / h\n",
    "    print('Derivative of L w.r.t. leaf node a = %.4f' % (derivative))\n",
    "\n",
    "derivative_L_wrt_a()\n",
    "derivative_L_wrt_b()"
   ]
  },
  {
   "cell_type": "markdown",
   "id": "1f7776db-29ae-4d94-a0c5-cb5eb528b61a",
   "metadata": {},
   "source": [
    "## Gradient updating\n",
    "Once I have computed the gradient for each of the nodes in the graph, I can adjust their value according to the gradient of the final value w.r.t. them."
   ]
  },
  {
   "cell_type": "code",
   "execution_count": null,
   "id": "aa785a8a-c569-4283-964c-5ba4d42ed840",
   "metadata": {},
   "outputs": [],
   "source": []
  }
 ],
 "metadata": {
  "kernelspec": {
   "display_name": "Python [conda env:ai] *",
   "language": "python",
   "name": "conda-env-ai-py"
  },
  "language_info": {
   "codemirror_mode": {
    "name": "ipython",
    "version": 3
   },
   "file_extension": ".py",
   "mimetype": "text/x-python",
   "name": "python",
   "nbconvert_exporter": "python",
   "pygments_lexer": "ipython3",
   "version": "3.8.8"
  }
 },
 "nbformat": 4,
 "nbformat_minor": 5
}
